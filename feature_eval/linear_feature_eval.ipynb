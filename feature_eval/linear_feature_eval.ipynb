{
 "cells": [
  {
   "cell_type": "markdown",
   "metadata": {
    "colab_type": "text",
    "id": "view-in-github"
   },
   "source": [
    "<a href=\"https://colab.research.google.com/github/sthalles/SimCLR/blob/master/feature_eval/linear_feature_eval.ipynb\" target=\"_parent\"><img src=\"https://colab.research.google.com/assets/colab-badge.svg\" alt=\"Open In Colab\"/></a>"
   ]
  },
  {
   "cell_type": "code",
   "execution_count": 1,
   "metadata": {
    "colab": {
     "base_uri": "https://localhost:8080/",
     "height": 163
    },
    "colab_type": "code",
    "id": "WSgRE1CcLqdS",
    "outputId": "855d3d81-1171-42c9-b4a6-957c6528fcca"
   },
   "outputs": [
    {
     "name": "stdout",
     "output_type": "stream",
     "text": [
      "Requirement already satisfied: gdown in /usr/local/lib/python3.6/dist-packages (3.6.4)\n",
      "Requirement already satisfied: tqdm in /usr/local/lib/python3.6/dist-packages (from gdown) (4.38.0)\n",
      "Requirement already satisfied: requests in /usr/local/lib/python3.6/dist-packages (from gdown) (2.21.0)\n",
      "Requirement already satisfied: six in /usr/local/lib/python3.6/dist-packages (from gdown) (1.12.0)\n",
      "Requirement already satisfied: certifi>=2017.4.17 in /usr/local/lib/python3.6/dist-packages (from requests->gdown) (2020.4.5.1)\n",
      "Requirement already satisfied: chardet<3.1.0,>=3.0.2 in /usr/local/lib/python3.6/dist-packages (from requests->gdown) (3.0.4)\n",
      "Requirement already satisfied: urllib3<1.25,>=1.21.1 in /usr/local/lib/python3.6/dist-packages (from requests->gdown) (1.24.3)\n",
      "Requirement already satisfied: idna<2.9,>=2.5 in /usr/local/lib/python3.6/dist-packages (from requests->gdown) (2.8)\n"
     ]
    }
   ],
   "source": [
    "!pip install gdown"
   ]
  },
  {
   "cell_type": "code",
   "execution_count": 16,
   "metadata": {
    "colab": {
     "base_uri": "https://localhost:8080/",
     "height": 272
    },
    "colab_type": "code",
    "id": "G7YMxsvEZMrX",
    "outputId": "869571ca-c1fa-40fd-e687-f0962aba76e5"
   },
   "outputs": [],
   "source": [
    "# folder_name = 'resnet-18_80-epochs'\n",
    "\n",
    "# # !gdown https://drive.google.com/uc?id=1c4eVon0sUd-ChVhH6XMpF6nCngNJsAPk # ResNet 18 --> 40 epochs trained\n",
    "# !gdown https://drive.google.com/uc?id=1L0yoeY9i2mzDcj69P4slTWb-cfr3PyoT # ResNet 18 --> 80 epochs trained\n",
    "# !unzip resnet-18_80-epochs\n",
    "# !ls"
   ]
  },
  {
   "cell_type": "code",
   "execution_count": 2,
   "metadata": {
    "colab": {
     "base_uri": "https://localhost:8080/",
     "height": 72
    },
    "colab_type": "code",
    "id": "Muj3TrwSNLEu",
    "outputId": "4d67b96d-6c5d-4703-d2dc-1cb599d27db2"
   },
   "outputs": [
    {
     "name": "stdout",
     "output_type": "stream",
     "text": [
      "LICENSE.txt  config.yaml  env.yml\tmodels\t\t  runs\r\n",
      "README.md    data\t  feature_eval\trequirements.txt  simclr.py\r\n",
      "__pycache__  data_aug\t  loss\t\trun.py\t\t  simclr_icm.py\r\n"
     ]
    }
   ],
   "source": [
    "!ls ../"
   ]
  },
  {
   "cell_type": "code",
   "execution_count": 3,
   "metadata": {
    "colab": {
     "base_uri": "https://localhost:8080/",
     "height": 417
    },
    "colab_type": "code",
    "id": "vEoblAn6RsO7",
    "outputId": "9906b2c4-bbfa-45dc-9e66-32464e0dbaa3"
   },
   "outputs": [],
   "source": [
    "# download and extract stl10\n",
    "# !wget http://ai.stanford.edu/~acoates/stl10/stl10_binary.tar.gz\n",
    "# !tar -zxvf stl10_binary.tar.gz\n",
    "# !ls"
   ]
  },
  {
   "cell_type": "code",
   "execution_count": 4,
   "metadata": {
    "colab": {},
    "colab_type": "code",
    "id": "aFnFqIFLLjQZ"
   },
   "outputs": [],
   "source": [
    "import torch\n",
    "import sys\n",
    "import numpy as np\n",
    "import os\n",
    "from sklearn.neighbors import KNeighborsClassifier\n",
    "import yaml\n",
    "import matplotlib.pyplot as plt\n",
    "from sklearn.decomposition import PCA\n",
    "from sklearn.linear_model import LogisticRegression\n",
    "from sklearn import preprocessing\n",
    "import importlib.util\n",
    "\n",
    "from torchvision import datasets\n",
    "import torchvision.transforms as transforms"
   ]
  },
  {
   "cell_type": "code",
   "execution_count": 5,
   "metadata": {
    "colab": {
     "base_uri": "https://localhost:8080/",
     "height": 35
    },
    "colab_type": "code",
    "id": "lDfbL3w_Z0Od",
    "outputId": "52656481-7f67-452a-d85a-c10707c29f43"
   },
   "outputs": [
    {
     "name": "stdout",
     "output_type": "stream",
     "text": [
      "Using device: cuda\n"
     ]
    }
   ],
   "source": [
    "device = 'cuda' if torch.cuda.is_available() else 'cpu'\n",
    "print(\"Using device:\", device)"
   ]
  },
  {
   "cell_type": "code",
   "execution_count": 6,
   "metadata": {
    "colab": {
     "base_uri": "https://localhost:8080/",
     "height": 217
    },
    "colab_type": "code",
    "id": "IQMIryc6LjQd",
    "outputId": "5b02308c-a5ab-4bbc-f158-5e6129164017"
   },
   "outputs": [
    {
     "name": "stderr",
     "output_type": "stream",
     "text": [
      "/userhome/ydjiang/miniconda3/envs/simclr/lib/python3.7/site-packages/ipykernel_launcher.py:4: YAMLLoadWarning: calling yaml.load() without Loader=... is deprecated, as the default Loader is unsafe. Please read https://msg.pyyaml.org/load for full details.\n",
      "  after removing the cwd from sys.path.\n"
     ]
    },
    {
     "data": {
      "text/plain": [
       "{'batch_size': 512,\n",
       " 'epochs': 80,\n",
       " 'eval_every_n_epochs': 1,\n",
       " 'fine_tune_from': 'None',\n",
       " 'log_every_n_steps': 50,\n",
       " 'weight_decay': '10e-6',\n",
       " 'fp16_precision': False,\n",
       " 'exp_type': 'normal',\n",
       " 'augmentor_type': 'cnn',\n",
       " 'normalization_type': 'spectral',\n",
       " 'num_mechanisms': 8,\n",
       " 'simclr_train_interval': 1,\n",
       " 'optimizer': 'adam',\n",
       " 'device': 'cuda',\n",
       " 'model': {'out_dim': 256, 'base_model': 'resnet18'},\n",
       " 'dataset': {'s': 1,\n",
       "  'input_shape': '(96,96,3)',\n",
       "  'num_workers': 0,\n",
       "  'valid_size': 0.05,\n",
       "  'use_augmentation': True,\n",
       "  'name': 'CIFAR10'},\n",
       " 'loss': {'temperature': 0.5, 'use_cosine_similarity': True}}"
      ]
     },
     "execution_count": 6,
     "metadata": {},
     "output_type": "execute_result"
    }
   ],
   "source": [
    "# checkpoints_folder = os.path.join(folder_name, 'checkpoints')\n",
    "folder_name = 'Dec16_05-29-52_figure'\n",
    "checkpoints_folder = os.path.join('../runs/' + folder_name, 'checkpoints')\n",
    "config = yaml.load(open(os.path.join(checkpoints_folder, \"config.yaml\"), \"r\"))\n",
    "config"
   ]
  },
  {
   "cell_type": "code",
   "execution_count": 7,
   "metadata": {
    "colab": {
     "base_uri": "https://localhost:8080/",
     "height": 35
    },
    "colab_type": "code",
    "id": "udi8OnvzMUEt",
    "outputId": "bc6cdde2-8f80-44a1-fd6d-0fe5f58a1eb1"
   },
   "outputs": [
    {
     "data": {
      "text/plain": [
       "'../runs/Dec16_05-29-52_figure/checkpoints'"
      ]
     },
     "execution_count": 7,
     "metadata": {},
     "output_type": "execute_result"
    }
   ],
   "source": [
    "checkpoints_folder"
   ]
  },
  {
   "cell_type": "code",
   "execution_count": 8,
   "metadata": {
    "colab": {},
    "colab_type": "code",
    "id": "GxuiXvAKLjQm"
   },
   "outputs": [],
   "source": [
    "def _load_stl10(prefix=\"train\"):\n",
    "    X_train = np.fromfile('./stl10_binary/' + prefix + '_X.bin', dtype=np.uint8)\n",
    "    y_train = np.fromfile('./stl10_binary/' + prefix + '_y.bin', dtype=np.uint8)\n",
    "\n",
    "    X_train = np.reshape(X_train, (-1, 3, 96, 96)) # CWH\n",
    "    X_train = np.transpose(X_train, (0, 1, 3, 2)) # CHW\n",
    "\n",
    "    print(\"{} images\".format(prefix))\n",
    "    print(X_train.shape)\n",
    "    print(y_train.shape)\n",
    "    return X_train, y_train - 1\n",
    "\n",
    "def _load_cifar10(prefix=\"train\"):\n",
    "    train_dataset = datasets.CIFAR10(\n",
    "            \"./data\",\n",
    "            download=True,\n",
    "            train=prefix==\"train\",\n",
    "            transform=transforms.Compose([transforms.ToTensor()])\n",
    "        )\n",
    "    image_batches, label_batches = [], []\n",
    "    for i in range(len(train_dataset)): # or i, image in enumerate(dataset)\n",
    "        images, labels = train_dataset[i]\n",
    "        image_batches.append(images.numpy())\n",
    "        label_batches.append(labels)\n",
    "    image_batches, label_batches = np.array(image_batches), np.array(label_batches)\n",
    "    print(\"{} images\".format(prefix))\n",
    "    print(image_batches.shape)\n",
    "    print(label_batches.shape)\n",
    "    print(\"max label\", np.max(label_batches))\n",
    "    return image_batches, label_batches"
   ]
  },
  {
   "cell_type": "code",
   "execution_count": 9,
   "metadata": {
    "colab": {
     "base_uri": "https://localhost:8080/",
     "height": 72
    },
    "colab_type": "code",
    "id": "Xn0xslbELjQq",
    "outputId": "f20616d0-3e7f-4f53-bcae-529bbe7f4d40"
   },
   "outputs": [
    {
     "name": "stdout",
     "output_type": "stream",
     "text": [
      "Files already downloaded and verified\n",
      "train images\n",
      "(50000, 3, 32, 32)\n",
      "(50000,)\n",
      "max label 9\n"
     ]
    }
   ],
   "source": [
    "# load STL-10 train data\n",
    "# X_train, y_train = _load_stl10(\"train\")\n",
    "X_train, y_train = _load_cifar10(\"train\")"
   ]
  },
  {
   "cell_type": "code",
   "execution_count": 10,
   "metadata": {
    "colab": {
     "base_uri": "https://localhost:8080/",
     "height": 266
    },
    "colab_type": "code",
    "id": "7shAS6fvXtPG",
    "outputId": "8217a3e4-472e-4dfc-eb75-dc6cd29072e5"
   },
   "outputs": [
    {
     "data": {
      "image/png": "[encoded data removed]",
      "text/plain": [
       "<Figure size 864x288 with 12 Axes>"
      ]
     },
     "metadata": {
      "needs_background": "light"
     },
     "output_type": "display_data"
    }
   ],
   "source": [
    "fig, axs = plt.subplots(nrows=2, ncols=6, constrained_layout=False, figsize=(12,4))\n",
    "\n",
    "for i, ax in enumerate(axs.flat):\n",
    "  ax.imshow(X_train[i].transpose(1,2,0))\n",
    "plt.show()"
   ]
  },
  {
   "cell_type": "code",
   "execution_count": 11,
   "metadata": {
    "colab": {
     "base_uri": "https://localhost:8080/",
     "height": 72
    },
    "colab_type": "code",
    "id": "YUJ3_xoPLjQv",
    "outputId": "a2b962aa-5f10-4c43-a158-2aea21369e26"
   },
   "outputs": [
    {
     "name": "stdout",
     "output_type": "stream",
     "text": [
      "Files already downloaded and verified\n",
      "test images\n",
      "(10000, 3, 32, 32)\n",
      "(10000,)\n",
      "max label 9\n"
     ]
    }
   ],
   "source": [
    "# load STL-10 test data\n",
    "# X_test, y_test = _load_stl10(\"test\")\n",
    "X_test, y_test = _load_cifar10(\"test\")"
   ]
  },
  {
   "cell_type": "markdown",
   "metadata": {
    "colab_type": "text",
    "id": "QE8sEe_qLjQz"
   },
   "source": [
    "## Test protocol #1 PCA features"
   ]
  },
  {
   "cell_type": "code",
   "execution_count": 57,
   "metadata": {
    "colab": {},
    "colab_type": "code",
    "id": "WFmUZzKoLjQ4"
   },
   "outputs": [
    {
     "name": "stdout",
     "output_type": "stream",
     "text": [
      "PCA features\n",
      "(50000, 256)\n",
      "(10000, 256)\n"
     ]
    }
   ],
   "source": [
    "scaler = preprocessing.StandardScaler()\n",
    "scaler.fit(X_train.reshape((X_train.shape[0],-1)))\n",
    "\n",
    "pca = PCA(n_components=config['model']['out_dim'])\n",
    "\n",
    "X_train_pca = pca.fit_transform(scaler.transform(X_train.reshape(X_train.shape[0], -1)))\n",
    "X_test_pca = pca.transform(scaler.transform(X_test.reshape(X_test.shape[0], -1)))\n",
    "\n",
    "print(\"PCA features\")\n",
    "print(X_train_pca.shape)\n",
    "print(X_test_pca.shape)"
   ]
  },
  {
   "cell_type": "code",
   "execution_count": 12,
   "metadata": {
    "colab": {},
    "colab_type": "code",
    "id": "Yq2N_FpVLjQ8"
   },
   "outputs": [],
   "source": [
    "def linear_model_eval(X_train, y_train, X_test, y_test):\n",
    "    \n",
    "    clf = LogisticRegression(random_state=0, max_iter=1200, solver='lbfgs', C=1.0)\n",
    "    clf.fit(X_train, y_train)\n",
    "    print(\"Logistic Regression feature eval\")\n",
    "    print(\"Train score:\", clf.score(X_train, y_train))\n",
    "    print(\"Test score:\", clf.score(X_test, y_test))\n",
    "    \n",
    "    print(\"-------------------------------\")\n",
    "    neigh = KNeighborsClassifier(n_neighbors=10)\n",
    "    neigh.fit(X_train, y_train)\n",
    "    print(\"KNN feature eval\")\n",
    "    print(\"Train score:\", neigh.score(X_train, y_train))\n",
    "    print(\"Test score:\", neigh.score(X_test, y_test))"
   ]
  },
  {
   "cell_type": "code",
   "execution_count": null,
   "metadata": {
    "colab": {},
    "colab_type": "code",
    "id": "6VTolghbLjRA"
   },
   "outputs": [
    {
     "name": "stdout",
     "output_type": "stream",
     "text": [
      "Logistic Regression feature eval\n",
      "Train score: 0.43046\n",
      "Test score: 0.4094\n",
      "-------------------------------\n",
      "KNN feature eval\n"
     ]
    }
   ],
   "source": [
    "linear_model_eval(X_train_pca, y_train, X_test_pca, y_test)\n",
    "\n",
    "## clean up resources\n",
    "del X_train_pca\n",
    "del X_test_pca"
   ]
  },
  {
   "cell_type": "markdown",
   "metadata": {
    "colab_type": "text",
    "id": "5nf4rDtWLjRE"
   },
   "source": [
    "## Protocol #2 Logisitc Regression"
   ]
  },
  {
   "cell_type": "code",
   "execution_count": 13,
   "metadata": {
    "colab": {},
    "colab_type": "code",
    "id": "fYezlvoNVpeT"
   },
   "outputs": [],
   "source": [
    "# Load the neural net module\n",
    "# spec = importlib.util.spec_from_file_location(\"model\", os.path.join(checkpoints_folder, 'resnet_simclr.py'))\n",
    "# spec = importlib.util.spec_from_file_location(\"../models\", 'resnet_simclr.py')\n",
    "# resnet_module = importlib.util.module_from_spec(spec)\n",
    "# spec.loader.exec_module(resnet_module)\n",
    "# from SimCLR import ResNetSimCLR\n",
    "import torch.nn as nn\n",
    "import torch.nn.functional as F\n",
    "import torchvision.models as models\n",
    "\n",
    "class ResNetSimCLR(nn.Module):\n",
    "\n",
    "    def __init__(self, base_model, out_dim):\n",
    "        super(ResNetSimCLR, self).__init__()\n",
    "        self.resnet_dict = {\"resnet18\": models.resnet18(pretrained=False),\n",
    "                            \"resnet50\": models.resnet50(pretrained=False)}\n",
    "\n",
    "        resnet = self._get_basemodel(base_model)\n",
    "        num_ftrs = resnet.fc.in_features\n",
    "\n",
    "        self.features = nn.Sequential(*list(resnet.children())[:-1])\n",
    "\n",
    "        # projection MLP\n",
    "        self.l1 = nn.Linear(num_ftrs, num_ftrs)\n",
    "        self.l2 = nn.Linear(num_ftrs, out_dim)\n",
    "\n",
    "    def _get_basemodel(self, model_name):\n",
    "        try:\n",
    "            model = self.resnet_dict[model_name]\n",
    "            print(\"Feature extractor:\", model_name)\n",
    "            return model\n",
    "        except:\n",
    "            raise (\"Invalid model name. Check the config file and pass one of: resnet18 or resnet50\")\n",
    "\n",
    "    def forward(self, x):\n",
    "        h = self.features(x)\n",
    "        h = h.squeeze()\n",
    "\n",
    "        x = self.l1(h)\n",
    "        x = F.relu(x)\n",
    "        x = self.l2(x)\n",
    "        return h, x"
   ]
  },
  {
   "cell_type": "code",
   "execution_count": 14,
   "metadata": {
    "colab": {},
    "colab_type": "code",
    "id": "AxhfD0c7LjRF"
   },
   "outputs": [
    {
     "name": "stdout",
     "output_type": "stream",
     "text": [
      "Feature extractor: resnet18\n"
     ]
    }
   ],
   "source": [
    "model = ResNetSimCLR(**config['model'])\n",
    "model.eval()\n",
    "\n",
    "state_dict = torch.load(os.path.join(checkpoints_folder, 'model.pth'), map_location=torch.device('cpu'))\n",
    "model.load_state_dict(state_dict)\n",
    "model = model.to(device)"
   ]
  },
  {
   "cell_type": "code",
   "execution_count": 15,
   "metadata": {
    "colab": {},
    "colab_type": "code",
    "id": "ro6yG6ngLjRI"
   },
   "outputs": [],
   "source": [
    "def next_batch(X, y, batch_size):\n",
    "    for i in range(0, X.shape[0], batch_size):\n",
    "        X_batch = torch.tensor(X[i: i+batch_size]) / 255.\n",
    "        y_batch = torch.tensor(y[i: i+batch_size])\n",
    "        yield X_batch.to(device), y_batch.to(device)"
   ]
  },
  {
   "cell_type": "code",
   "execution_count": 16,
   "metadata": {
    "colab": {},
    "colab_type": "code",
    "id": "oftbHXcdLjRM"
   },
   "outputs": [
    {
     "name": "stdout",
     "output_type": "stream",
     "text": [
      "Train features\n",
      "(50000, 512)\n"
     ]
    }
   ],
   "source": [
    "X_train_feature = []\n",
    "\n",
    "for batch_x, batch_y in next_batch(X_train, y_train, batch_size=config['batch_size']):\n",
    "    features, _ = model(batch_x)\n",
    "    X_train_feature.extend(features.cpu().detach().numpy())\n",
    "    \n",
    "X_train_feature = np.array(X_train_feature)\n",
    "\n",
    "print(\"Train features\")\n",
    "print(X_train_feature.shape)"
   ]
  },
  {
   "cell_type": "code",
   "execution_count": 17,
   "metadata": {
    "colab": {},
    "colab_type": "code",
    "id": "sverVlKPLjRP"
   },
   "outputs": [
    {
     "name": "stdout",
     "output_type": "stream",
     "text": [
      "Test features\n",
      "(10000, 512)\n"
     ]
    }
   ],
   "source": [
    "X_test_feature = []\n",
    "\n",
    "for batch_x, batch_y in next_batch(X_test, y_test, batch_size=config['batch_size']):\n",
    "    features, _ = model(batch_x)\n",
    "    X_test_feature.extend(features.cpu().detach().numpy())\n",
    "    \n",
    "X_test_feature = np.array(X_test_feature)\n",
    "\n",
    "print(\"Test features\")\n",
    "print(X_test_feature.shape)"
   ]
  },
  {
   "cell_type": "code",
   "execution_count": 18,
   "metadata": {
    "colab": {},
    "colab_type": "code",
    "id": "91jHpRQyLjRT"
   },
   "outputs": [
    {
     "name": "stderr",
     "output_type": "stream",
     "text": [
      "/userhome/ydjiang/miniconda3/envs/simclr/lib/python3.7/site-packages/sklearn/linear_model/_logistic.py:940: ConvergenceWarning: lbfgs failed to converge (status=1):\n",
      "STOP: TOTAL NO. of ITERATIONS REACHED LIMIT.\n",
      "\n",
      "Increase the number of iterations (max_iter) or scale the data as shown in:\n",
      "    https://scikit-learn.org/stable/modules/preprocessing.html\n",
      "Please also refer to the documentation for alternative solver options:\n",
      "    https://scikit-learn.org/stable/modules/linear_model.html#logistic-regression\n",
      "  extra_warning_msg=_LOGISTIC_SOLVER_CONVERGENCE_MSG)\n"
     ]
    },
    {
     "name": "stdout",
     "output_type": "stream",
     "text": [
      "Logistic Regression feature eval\n",
      "Train score: 0.49784\n",
      "Test score: 0.4796\n",
      "-------------------------------\n",
      "KNN feature eval\n",
      "Train score: 0.493\n",
      "Test score: 0.38\n"
     ]
    }
   ],
   "source": [
    "scaler = preprocessing.StandardScaler()\n",
    "scaler.fit(X_train_feature)\n",
    "\n",
    "linear_model_eval(scaler.transform(X_train_feature), y_train, scaler.transform(X_test_feature), y_test)\n",
    "\n",
    "del X_train_feature\n",
    "del X_test_feature"
   ]
  },
  {
   "cell_type": "code",
   "execution_count": 0,
   "metadata": {
    "colab": {},
    "colab_type": "code",
    "id": "fXy_YX8_b7gL"
   },
   "outputs": [],
   "source": []
  }
 ],
 "metadata": {
  "accelerator": "GPU",
  "colab": {
   "include_colab_link": true,
   "name": "linear_feature_eval.ipynb",
   "provenance": []
  },
  "kernelspec": {
   "display_name": "Python 3",
   "language": "python",
   "name": "python3"
  },
  "language_info": {
   "codemirror_mode": {
    "name": "ipython",
    "version": 3
   },
   "file_extension": ".py",
   "mimetype": "text/x-python",
   "name": "python",
   "nbconvert_exporter": "python",
   "pygments_lexer": "ipython3",
   "version": "3.7.6"
  }
 },
 "nbformat": 4,
 "nbformat_minor": 1
}
